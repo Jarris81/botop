{
 "cells": [
  {
   "cell_type": "code",
   "execution_count": 4,
   "metadata": {},
   "outputs": [
    {
     "name": "stdout",
     "output_type": "stream",
     "text": [
<<<<<<< HEAD
      "3.8.5 (default, Sep  4 2020, 07:30:14) \n",
      "[GCC 7.3.0]\n"
=======
      "3.6.9 (default, Jan 26 2021, 15:33:00) \n",
      "[GCC 8.4.0]\n",
      "**ry-c++-log** /home/mtoussai/git/botop/rai/rai/ry/ry.cpp:init_LogToPythonConsole:34(0) initializing ry log callback\n",
      "\n"
>>>>>>> c037aa0ae49300b419610cd4e007a10f920130e6
     ]
    }
   ],
   "source": [
    "import sys\n",
    "#sys.path.append('../../build')\n",
    "print(sys.version)\n",
    "import numpy as np\n",
    "import libry as ry\n",
    "import libpybot as pybot\n",
    "import time"
   ]
  },
  {
   "cell_type": "code",
<<<<<<< HEAD
   "execution_count": 5,
=======
   "execution_count": 8,
   "id": "53ba0ff2",
>>>>>>> c037aa0ae49300b419610cd4e007a10f920130e6
   "metadata": {},
   "outputs": [],
   "source": [
    "C = ry.Config()\n",
    "C.view()\n",
    "C.addFile(\"../../rai-robotModels/scenarios/pandaSingle.g\")"
   ]
  },
  {
   "cell_type": "code",
<<<<<<< HEAD
   "execution_count": 6,
   "metadata": {},
   "outputs": [],
   "source": [
    "bot = pybot.BotOp(C, False)"
   ]
  },
  {
   "cell_type": "code",
   "execution_count": null,
   "metadata": {},
   "outputs": [],
=======
   "execution_count": null,
   "id": "ae92d219",
   "metadata": {},
   "outputs": [
    {
     "name": "stdout",
     "output_type": "stream",
     "text": [
      "**ry-c++-log** /home/mtoussai/git/botop/src/Franka/franka.cpp:FrankaThreadNew:20(0) FRANKA: Kp_freq=[20, 20, 20, 20, 10, 15, 10] Kd_ratio=[0.6, 0.6, 0.4, 0.4, 0.1, 0.5, 0.1]\n",
      "\n"
     ]
    }
   ],
>>>>>>> c037aa0ae49300b419610cd4e007a10f920130e6
   "source": [
    "bot = pybot.BotOp(C, True)"
   ]
  },
  {
   "cell_type": "code",
   "execution_count": null,
   "id": "f1a09c68",
   "metadata": {},
   "outputs": [],
   "source": [
    "qHome = bot.get_q()\n",
    "q = bot.get_q()\n",
    "print(q)\n",
    "q[1] = q[1] - .2\n",
    "print(q)"
   ]
  },
  {
   "cell_type": "code",
   "execution_count": null,
   "metadata": {},
   "outputs": [],
   "source": [
    "bot.move(q.reshape(1,7), [2])\n",
    "bot.move(qHome.reshape(1,7), [2])\n",
    "bot.move(q.reshape(1,7), [2])\n",
    "\n",
    "while bot.getTimeToEnd()>0:\n",
    "    bot.step(C, .1)\n",
    "    time.sleep(.1)"
   ]
  },
  {
   "cell_type": "code",
   "execution_count": null,
   "metadata": {},
   "outputs": [],
   "source": [
    "bot.home(C)"
   ]
  },
  {
   "cell_type": "code",
<<<<<<< HEAD
   "execution_count": null,
=======
   "execution_count": 7,
   "id": "149251b8",
>>>>>>> c037aa0ae49300b419610cd4e007a10f920130e6
   "metadata": {},
   "outputs": [],
   "source": [
    "bot = 0\n",
    "C.view_close()\n",
    "C = 0"
   ]
  },
  {
   "cell_type": "code",
<<<<<<< HEAD
   "execution_count": 7,
   "metadata": {},
   "outputs": [],
   "source": [
    "a = ry.CtrlSet()\n",
    "\n",
    "a.addSymbolicCommand(ry.SC.OPEN_GRIPPER, [\"R_gripper\", \"b1\"], True)"
   ]
  },
  {
   "cell_type": "code",
   "execution_count": null,
=======
   "execution_count": null,
   "id": "3d06d6b4",
>>>>>>> c037aa0ae49300b419610cd4e007a10f920130e6
   "metadata": {},
   "outputs": [],
   "source": []
  }
 ],
 "metadata": {
  "kernelspec": {
   "display_name": "Python 3",
   "language": "python",
   "name": "python3"
  },
  "language_info": {
   "codemirror_mode": {
    "name": "ipython",
    "version": 3
   },
   "file_extension": ".py",
   "mimetype": "text/x-python",
   "name": "python",
   "nbconvert_exporter": "python",
   "pygments_lexer": "ipython3",
<<<<<<< HEAD
   "version": "3.8.5"
=======
   "version": "3.6.9"
>>>>>>> c037aa0ae49300b419610cd4e007a10f920130e6
  }
 },
 "nbformat": 4,
 "nbformat_minor": 5
}
